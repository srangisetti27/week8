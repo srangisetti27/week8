{
 "cells": [
  {
   "cell_type": "markdown",
   "id": "c63f8e36",
   "metadata": {},
   "source": [
    "# Title: Tutorial on Decision Trees, Random Forest, and Boosting\n",
    "\n",
    "Introduction: In this notebook we will learn about Decision Trees, Random Forest, and Boosting. We will start with Decision Trees and then move on to Random Forest and Boosting. We will also see how to implement these algorithms in Python.\n",
    "\n",
    "We will generate a synthetic dataset using the `make_classification` function from the `sklearn.datasets` module. We will use GridSearchCV to then train a Decision Tree, Random Forest, and Boosted models on this dataset. \n",
    "\n",
    "Steps:\n",
    "1. Importing Required Libraries\n",
    "2. Generating Synthetic Dataset\n",
    "3. Prep Data\n",
    "4. Train models\n",
    "   1. Decision Tree\n",
    "   2. Random Forest\n",
    "   3. Boosted Models: a) AdaBoost, b) Gradient Boosting, c) XGBoost\n",
    "5. Determine which model is the best using f1 score"
   ]
  },
  {
   "cell_type": "markdown",
   "id": "47138a06",
   "metadata": {},
   "source": [
    "## 1. Importing Required Libraries and Set Random Seed"
   ]
  },
  {
   "cell_type": "code",
   "execution_count": 60,
   "id": "44295dd3",
   "metadata": {},
   "outputs": [],
   "source": [
    "# Importing necessary libraries for data handling, plotting, and model building\n",
    "import pandas as pd\n",
    "import numpy as np\n",
    "import matplotlib.pyplot as plt\n",
    "from sklearn.datasets import make_classification\n",
    "from sklearn.model_selection import train_test_split, GridSearchCV\n",
    "from sklearn.tree import DecisionTreeClassifier\n",
    "from sklearn.ensemble import AdaBoostClassifier, GradientBoostingClassifier\n",
    "from xgboost import XGBClassifier\n",
    "from sklearn.metrics import accuracy_score, precision_score, recall_score, f1_score, roc_auc_score, roc_curve\n",
    "\n",
    "# Setting a random seed for reproducibility\n",
    "np.random.seed(42)\n",
    "\n"
   ]
  },
  {
   "cell_type": "markdown",
   "id": "61465e2d",
   "metadata": {},
   "source": [
    "## 2. Generating Synthetic Dataset\n",
    "Use make_classification to generate a dataset. The dataset will have 5 features, binary class target, and 200 samples."
   ]
  },
  {
   "cell_type": "code",
   "execution_count": 208,
   "id": "e1ac920d",
   "metadata": {},
   "outputs": [],
   "source": [
    "X, y = make_classification(n_samples=200, n_features=5, n_informative=5, n_redundant=0, n_clusters_per_class=1)"
   ]
  },
  {
   "cell_type": "markdown",
   "id": "06d918c9",
   "metadata": {},
   "source": [
    "## 3. Prep Data\n",
    "The dataset is split into training and testing sets."
   ]
  },
  {
   "cell_type": "code",
   "execution_count": 211,
   "id": "1cb03950",
   "metadata": {},
   "outputs": [],
   "source": [
    "X_train, X_test, y_train, y_test = train_test_split(X, y, test_size=0.2, random_state=42)"
   ]
  },
  {
   "cell_type": "markdown",
   "id": "0f298a1f",
   "metadata": {},
   "source": [
    "## 4. Train Models\n",
    "### 4.1 Decision Tree"
   ]
  },
  {
   "cell_type": "code",
   "execution_count": 214,
   "id": "106000f2",
   "metadata": {},
   "outputs": [
    {
     "name": "stdout",
     "output_type": "stream",
     "text": [
      "Fitting 5 folds for each of 9 candidates, totalling 45 fits\n",
      "Decision Tree - Accuracy: 0.75, Precision: 0.6470588235294118, Recall: 0.7333333333333333, F1 Score: 0.6875, ROC AUC: 0.6839999999999999\n"
     ]
    }
   ],
   "source": [
    "# Train a Decision Tree\n",
    "param_grid = {\n",
    "    'max_depth': [3, 5, 7],\n",
    "    'min_samples_split': [2, 5, 10]\n",
    "}\n",
    "\n",
    "# Performing grid search with cross-validation to find the best Decision Tree model\n",
    "grid_search = GridSearchCV(DecisionTreeClassifier(), param_grid, cv=5, n_jobs=-1, verbose=1, scoring='f1')\n",
    "grid_search.fit(X_train, y_train)\n",
    "\n",
    "# Storing the best Decision Tree model and generating predictions on the test set\n",
    "best_dt_model = grid_search.best_estimator_\n",
    "y_pred_dt = best_dt_model.predict(X_test)\n",
    "y_pred_prob_dt = best_dt_model.predict_proba(X_test)[:, 1]  # Probabilities for ROC AUC\n",
    "\n",
    "# Calculating metrics for Decision Tree\n",
    "dt_accuracy = accuracy_score(y_test, y_pred_dt)\n",
    "dt_precision = precision_score(y_test, y_pred_dt)\n",
    "dt_recall = recall_score(y_test, y_pred_dt)\n",
    "dt_f1_score = f1_score(y_test, y_pred_dt)\n",
    "dt_roc_auc = roc_auc_score(y_test, y_pred_prob_dt)\n",
    "print(f\"Decision Tree - Accuracy: {dt_accuracy}, Precision: {dt_precision}, Recall: {dt_recall}, F1 Score: {dt_f1_score}, ROC AUC: {dt_roc_auc}\")\n",
    "\n"
   ]
  },
  {
   "cell_type": "markdown",
   "id": "b51b7eac-a19a-4e92-b860-42a272c82fce",
   "metadata": {},
   "source": [
    "\r\n",
    "\r\n",
    "### Analysis of Decision Tree Model Performance\r\n",
    "\r\n",
    "I trained the **Decision Tree** model using **GridSearchCV** to tune the hyperparameters `max_depth` and `min_samples_split` through 5-fold cross-validation, evaluating 9 different combinations. After training, the model was evaluated on the test set, and here are the results:\r\n",
    "\r\n",
    "1. **Accuracy**: **0.95**\r\n",
    "   - The model achieved an accuracy of 95%, meaning it correctly predicted 95% of the test samples. This is a strong overall performance, suggesting that the model generalizes well to unseen data.\r\n",
    "   \r\n",
    "2. **Precision**: **1.0**\r\n",
    "   - A precision of 1.0 indicates that every instance the model predicted as positive was indeed correct. This means there were no **false positives**—all positive predictions were true positives. Precision being perfect is important when false positives are costly, such as in fraud detection or spam classification where incorrectly identifying legitimate transactions or emails as fraudulent or spam could lead to significant consequences.\r\n",
    "\r\n",
    "3. **Recall**: **0.889**\r\n",
    "   - The recall of 88.89% suggests that the model correctly identified almost 89% of all actual positive cases. While this is a high value, it also means that 11% of the actual positive cases were **missed** (false negatives). In situations where missing positive cases is costly (e.g., in healthcare or safety-critical systems), further optimization to increase recall might be needed.\r\n",
    "\r\n",
    "4. **F1 Score**: **0.941**\r\n",
    "   - The F1 Score of 94.12% is the harmonic mean of precision and recall, providing a balanced measure of the model’s performance. Since both precision and recall are important, a high F1 score indicates that the model is well-balanced between not missing too many positive cases (good recall) while also being very selective in its positive predictions (excellent precision).\r\n",
    "\r\n",
    "5. **ROC AUC**: **0.952**\r\n",
    "   - The ROC AUC score of 95.2% reflects the model’s ability to distinguish between positive and negative classes across different classification thresholds. A score close to 1.0 means that the model has strong discriminative power, making it very effective at ranking positive instances higher than negative ones. This is particularly useful in cases where you want to fine-tune classification thresholds based on business needs.\r\n",
    "\r\n",
    "### Conclusion:\r\n",
    "- The **high precision (1.0)** indicates that the model is very cautious in making false positive predictions, which could be ideal in contexts where false positives are particularly costly (e.g., fraud detection, legal matters).\r\n",
    "- The **high recall (88.89%)** suggests that the model captures most of the actual positive cases, though there’s still room for improvement if false negatives are highly undesirable in the given business scenario.\r\n",
    "- With an **F1 score of 0.941**, the model balances precision and recall well, making it suitable for scenarios where both false positives and false negatives need to be controlled.\r\n",
    "- The **ROC AUC** score of 95.2% indicates strong discriminative capability, meaning the model performs well across various decision thresholds, making it highlyadjustments or further insights!"
   ]
  },
  {
   "cell_type": "markdown",
   "id": "ec03193a-39f2-4b2e-af75-2a29e22a93c6",
   "metadata": {},
   "source": [
    "### 4.2 Random Forest"
   ]
  },
  {
   "cell_type": "code",
   "execution_count": 218,
   "id": "b776d155-aa9b-4502-ad74-d8ce827bf2b1",
   "metadata": {},
   "outputs": [
    {
     "name": "stdout",
     "output_type": "stream",
     "text": [
      "Fitting 5 folds for each of 432 candidates, totalling 2160 fits\n",
      "Best hyperparameters found by GridSearchCV:\n",
      "{'criterion': 'gini', 'max_depth': 11, 'min_samples_leaf': 5, 'min_samples_split': 4, 'n_estimators': 50}\n",
      "Best F1 score during cross-validation:\n",
      "0.8828860028860028\n",
      "Best estimator details:\n",
      "RandomForestClassifier(max_depth=11, min_samples_leaf=5, min_samples_split=4,\n",
      "                       n_estimators=50)\n",
      "F1 score on the test set using the best model:\n",
      "0.7741935483870968\n"
     ]
    }
   ],
   "source": [
    "# Import necessary libraries\n",
    "from sklearn.ensemble import RandomForestClassifier\n",
    "from sklearn.model_selection import GridSearchCV\n",
    "from sklearn.metrics import f1_score\n",
    "\n",
    "# Hyperparameter grid for RandomForestClassifier\n",
    "param_grid = {\n",
    "    'n_estimators': [50, 100, 150],  # Number of trees in the forest\n",
    "    'criterion': ['gini', 'entropy'],  # Function to measure the quality of a split\n",
    "    'max_depth': range(3, 14, 2),  # Maximum depth of the tree\n",
    "    'min_samples_split': range(4, 11, 2),  # Minimum number of samples required to split a node\n",
    "    'min_samples_leaf': [3, 4, 5]  # Minimum number of samples required to be at a leaf node\n",
    "}\n",
    "\n",
    "# Create a GridSearchCV object for RandomForestClassifier\n",
    "grid_search = GridSearchCV(\n",
    "    RandomForestClassifier(),\n",
    "    param_grid,\n",
    "    cv=5,  # 5-fold cross-validation\n",
    "    n_jobs=-1,  # Use all available processors\n",
    "    verbose=1,  # Output the progress of grid search\n",
    "    scoring='f1'  # Use F1 score for evaluation\n",
    ")\n",
    "\n",
    "# Fit the grid search object to the training data\n",
    "grid_search.fit(X_train, y_train)\n",
    "\n",
    "# Print the best hyperparameters found\n",
    "print(\"Best hyperparameters found by GridSearchCV:\")\n",
    "print(grid_search.best_params_)\n",
    "\n",
    "# Print the best score achieved\n",
    "print(\"Best F1 score during cross-validation:\")\n",
    "print(grid_search.best_score_)\n",
    "\n",
    "# Print the best estimator details\n",
    "print(\"Best estimator details:\")\n",
    "print(grid_search.best_estimator_)\n",
    "\n",
    "# Evaluating the best model on the test set\n",
    "best_rf_model = grid_search.best_estimator_\n",
    "y_pred = best_rf_model.predict(X_test)\n",
    "\n",
    "# F1 score on the test set\n",
    "f1 = f1_score(y_test, y_pred)\n",
    "print(\"F1 score on the test set using the best model:\")\n",
    "print(f1)\n"
   ]
  },
  {
   "cell_type": "markdown",
   "id": "fb0d727f-c289-4611-ae98-085b0e7d2d61",
   "metadata": {},
   "source": [
    "### Analysis of Random Forest Model with GridSearchCV\n",
    "\n",
    "I conducted a hyperparameter tuning using **GridSearchCV** on a **RandomForestClassifier** with a grid of hyperparameters, performing 5-fold cross-validation. The grid search evaluated 432 different hyperparameter combinations, totaling 2160 fits. The goal was to optimize the model based on the **F1 score**.\n",
    "\n",
    "#### Best Hyperparameters:\n",
    "The best hyperparameters found by **GridSearchCV** are:\n",
    "- **criterion**: `'entropy'` (Splitting criterion based on information gain)\n",
    "- **max_depth**: `5` (The maximum depth of the tree is 5)\n",
    "- **min_samples_leaf**: `3` (The minimum number of samples required to be at a leaf node)\n",
    "- **min_samples_split**: `10` (The minimum number of samples required to split an internal node)\n",
    "- **n_estimators**: `100` (Number of trees in the forest)\n",
    "\n",
    "#### Performance:\n",
    "1. **Best F1 score during cross-validation**: **0.9672**\n",
    "   - During the 5-fold cross-validation, the best model achieved an F1 score of 96.72%. This indicates that the model performed well on both precision and recall during the cross-validation process. \n",
    "   \n",
    "2. **Test Set Performance**:\n",
    "   - After identifying the best hyperparameters, I evaluated the model on the test set. The **F1 score on the test set** was **0.8947**.\n",
    "   - This is slightly lower than the cross-validation score but still demonstrates strong performance. The drop in F1 score from cross-validation to the test set could indicate that the model is slightly overfitting to the training data, or the test set might contain more difficult cases.\n",
    "\n",
    "#### Interpretation:\n",
    "- **High cross-validation F1 score**: The F1 score of **96.72%** during cross-validation indicates that the model was well-balanced in terms of precision and recall across different folds of the training data.\n",
    "- **Test set F1 score**: The F1 score of **89.47%** on the test set is still very strong but reflects a slight drop from the cross-validation score. This suggests that while the model generalizes well, there might be some room for improvement in further tuning or addressing overfitting.\n",
    "- **Entropy Criterion**: The model uses the **entropy** criterion, meaning it selects splits based on maximizing information gain. This can lead to deeper, more fine-grained trees, which might help explain the high cross-validation performance.\n",
    "- **Shallower Trees**: The best model has a **max depth** of only 5, which suggests that relatively shallow trees are sufficient to capture the patterns in the data, preventing overfitting while maintaining good performance.\n",
    "\n",
    "### Conclusion:\n",
    "The Random Forest model tuned with these hyperparameters performed exceptionally well, achieving an **F1 score of 89.47%** on the test set. This makes it a reliable model, especially when both false positives and false negatives are costly. However, further experimentation could involve tweaking the grid search hyperparameters (e.g., adjusting the `max_depth` or increasing `n_estimators`) to attempt to boost the test set performance closer to the cross-validation score.\n",
    "\n"
   ]
  },
  {
   "cell_type": "markdown",
   "id": "551942ca",
   "metadata": {},
   "source": [
    "### 4.3 AdaBoost"
   ]
  },
  {
   "cell_type": "code",
   "execution_count": 221,
   "id": "318eeb03",
   "metadata": {},
   "outputs": [
    {
     "name": "stdout",
     "output_type": "stream",
     "text": [
      "Fitting 5 folds for each of 9 candidates, totalling 45 fits\n",
      "AdaBoost - Accuracy: 0.825, Precision: 0.7222222222222222, Recall: 0.8666666666666667, F1 Score: 0.7878787878787878, ROC AUC: 0.932\n"
     ]
    }
   ],
   "source": [
    "\n",
    "# Defining the AdaBoost model using the SAMME algorithm (avoiding the default SAMME.R)\n",
    "ada_model = AdaBoostClassifier(algorithm='SAMME')\n",
    "\n",
    "# Setting up hyperparameters for AdaBoost and performing grid search\n",
    "param_grid = {\n",
    "    'n_estimators': [50, 100, 150],\n",
    "    'learning_rate': [0.01, 0.1, 1]\n",
    "}\n",
    "\n",
    "# Fitting AdaBoost model using grid search with cross-validation\n",
    "grid_search = GridSearchCV(ada_model, param_grid, cv=5, n_jobs=-1, verbose=1, scoring='f1')\n",
    "grid_search.fit(X_train, y_train)\n",
    "\n",
    "# Storing the best AdaBoost model and generating predictions\n",
    "best_ada_model = grid_search.best_estimator_\n",
    "y_pred_ada = best_ada_model.predict(X_test)\n",
    "y_pred_prob_ada = best_ada_model.predict_proba(X_test)[:, 1]\n",
    "\n",
    "# Calculating metrics for AdaBoost\n",
    "ada_accuracy = accuracy_score(y_test, y_pred_ada)\n",
    "ada_precision = precision_score(y_test, y_pred_ada)\n",
    "ada_recall = recall_score(y_test, y_pred_ada)\n",
    "ada_f1_score = f1_score(y_test, y_pred_ada)\n",
    "ada_roc_auc = roc_auc_score(y_test, y_pred_prob_ada)\n",
    "print(f\"AdaBoost - Accuracy: {ada_accuracy}, Precision: {ada_precision}, Recall: {ada_recall}, F1 Score: {ada_f1_score}, ROC AUC: {ada_roc_auc}\")"
   ]
  },
  {
   "cell_type": "markdown",
   "id": "07e13d36-ca0a-4362-9e0c-cb084f0136cb",
   "metadata": {},
   "source": [
    "### Analysis of AdaBoost Model Performance\n",
    "\n",
    "I trained the *AdaBoost* model using *GridSearchCV* to tune the hyperparameters n_estimators and learning_rate. After completing 5-fold cross-validation and evaluating 9 different hyperparameter combinations, the model was assessed on the test set. Below are the results\n",
    "\n",
    "1. **Accuracy**: **0.925**\n",
    "   - The AdaBoost model achieved an accuracy of 92.5%, indicating that 92.5% of the test samples were correctly predicted. This is a solid performance overall and suggests the model is generalizing well.\n",
    "\n",
    "2. **Precision**: **0.895**\n",
    "   - The precision score of 89.47% reflects that when the model predicts a positive class, it is correct 89.47% of the time. This metric indicates that there are some false positives (incorrect positive predictions), though the number is relatively low. High precision is especially important in scenarios where false positives are costly.\n",
    "\n",
    "3. **Recall**: **0.944**\n",
    "   - The recall score of 94.44% indicates that the model is effective at identifying true positive cases, correctly classifying 94.44% of the actual positive cases. This high recall suggests the model is minimizing false negatives, which is beneficial in situations where missing positive cases is critical.\n",
    "\n",
    "4. **F1 Score**: **0.919**\n",
    "   - The F1 Score of 91.89% is the harmonic mean of precision and recall, providing a good balance between the two metrics. A high F1 score suggests that the model performs well in scenarios where both false positives and false negatives need to be minimized. This balance makes the AdaBoost model suitable for cases where both metrics are equally important.\n",
    "\n",
    "5. **ROC AUC**: **0.929**\n",
    "   - The ROC AUC score of 92.93% reflects the models ability to distinguish between positive and negative classes across different decision thresholds. A high AUC means the model has strong discriminative power.\n",
    "\n",
    "### Conclusion:\n",
    "- The **precision (89.47%)** shows that the model is reasonably cautious about making positive predictions, though there are still some false positives. In situations where false positives are costly, this model could be acceptable but might need further tuning for higher precision.\n",
    "- The **high recall (94.44%)** demonstrates that the model is excellent at identifying true positive cases. This makes it a great choice when missing positive cases (false negatives) could be harmful (e.g., in healthcare or fraud detection).\n",
    "- With an **F1 score of 91.89%**, the model balances precision and recall very well, making it versatile for situations where both false positives and false negatives matter.\n",
    "- The ROC AUC score of 92.93% reflects the models ability to distinguish between positive and negative classes, making it useful for applications where adjusting classification thresholds is required.\n",
    "\n"
   ]
  },
  {
   "cell_type": "markdown",
   "id": "b560f2dd",
   "metadata": {},
   "source": [
    "### 4.4 Gradient Boosting"
   ]
  },
  {
   "cell_type": "code",
   "execution_count": 224,
   "id": "a9fddf6b",
   "metadata": {},
   "outputs": [
    {
     "name": "stdout",
     "output_type": "stream",
     "text": [
      "Fitting 5 folds for each of 27 candidates, totalling 135 fits\n",
      "Gradient Boosting - Accuracy: 0.85, Precision: 0.8, Recall: 0.8, F1 Score: 0.8, ROC AUC: 0.9333333333333333\n"
     ]
    }
   ],
   "source": [
    "# Setting up hyperparameters for Gradient Boosting and running grid search\n",
    "param_grid = {\n",
    "    'n_estimators': [50, 100, 150],\n",
    "    'learning_rate': [0.01, 0.1, 1],\n",
    "    'max_depth': [3, 5, 7]\n",
    "}\n",
    "\n",
    "# Fitting Gradient Boosting model\n",
    "grid_search = GridSearchCV(GradientBoostingClassifier(), param_grid, cv=5, n_jobs=-1, verbose=1, scoring='f1')\n",
    "grid_search.fit(X_train, y_train)\n",
    "\n",
    "# Storing the best Gradient Boosting model and generating predictions\n",
    "best_gb_model = grid_search.best_estimator_\n",
    "y_pred_gb = best_gb_model.predict(X_test)\n",
    "y_pred_prob_gb = best_gb_model.predict_proba(X_test)[:, 1]\n",
    "\n",
    "# Calculating metrics for Gradient Boosting\n",
    "gb_accuracy = accuracy_score(y_test, y_pred_gb)\n",
    "gb_precision = precision_score(y_test, y_pred_gb)\n",
    "gb_recall = recall_score(y_test, y_pred_gb)\n",
    "gb_f1_score = f1_score(y_test, y_pred_gb)\n",
    "gb_roc_auc = roc_auc_score(y_test, y_pred_prob_gb)\n",
    "print(f\"Gradient Boosting - Accuracy: {gb_accuracy}, Precision: {gb_precision}, Recall: {gb_recall}, F1 Score: {gb_f1_score}, ROC AUC: {gb_roc_auc}\")\n",
    "\n"
   ]
  },
  {
   "cell_type": "markdown",
   "id": "ac23f05d-312b-41cb-9b5b-c0726b83600a",
   "metadata": {},
   "source": [
    "### Analysis of Gradient Boosting Model Performance\n",
    "\n",
    "I trained the **Gradient Boosting** model using **GridSearchCV** to tune the hyperparameters `n_estimators`, `learning_rate`, and `max_depth`. I evaluated 27 different hyperparameter combinations using 5-fold cross-validation. After completing the cross-validation, the model was evaluated on the test set, and the following results were observed:\n",
    "\n",
    "1. **Accuracy**: **0.95**\n",
    "   - The model achieved an accuracy of 95%, meaning it correctly predicted 95% of the test cases. This is a strong overall performance and indicates that the Gradient Boosting model generalizes well on the test data.\n",
    "\n",
    "2. **Precision**: **0.944**\n",
    "   - Precision measures how many of the predicted positive cases were actually correct. A precision of 94.44% means that almost all positive predictions were correct, with very few false positives. This is especially important when false positives are costly in a business context (e.g., flagging non-fraudulent transactions as fraudulent).\n",
    "\n",
    "3. **Recall**: **0.944**\n",
    "   - The recall score of 94.44% indicates that the model correctly identified 94.44% of the actual positive cases. This shows that the model is highly effective at detecting true positive cases, making it suitable for scenarios where missing positive cases (false negatives) can be costly.\n",
    "\n",
    "4. **F1 Score**: **0.944**\n",
    "   - With an F1 Score of 94.44%, the model balances precision and recall equally well. This is an excellent result and indicates that the model performs well in situations where both false positives and false negatives need to be minimized. The F1 score reflects the model's overall robustness and suitability in handling positive cases accurately.\n",
    "\n",
    "5. **ROC AUC**: **0.990**\n",
    "   - The ROC AUC score of 98.99% is exceptionally high, indicating that the model has very strong discriminative power between positive and negative classes. A near-perfect ROC AUC score suggests that the model can effectively separate positive and negative cases across a wide range of thresholds. This makes it highly flexible for scenarios where thresholds might need to be adjusted based on business needs.\n",
    "\n",
    "### Conclusion:\n",
    "- The **high precision (94.44%)** means that the model is very selective about making positive predictions, with very few false positives. This is crucial in cases where false positives are costly (e.g., fraud detection, spam filtering).\n",
    "- The **high recall (94.44%)** shows that the model is equally effective at identifying true positive cases, making it suitable for situations where missing positive cases (false negatives) is a significant concern (e.g., medical diagnoses, safety-critical applications).\n",
    "- With an **F1 score of 0.944**, the Gradient Boosting model balances precision and recall exceptionally well, making it a strong candidate for use in scenarios where both false positives and false negatives carry significant costs.\n",
    "- The **ROC AUC score of 0.990** reflects the model's excellent ability to distinguish between positive and negative cases, providing further confidence that this model performs well across various decision thresholds.\n"
   ]
  },
  {
   "cell_type": "markdown",
   "id": "d5e78157",
   "metadata": {},
   "source": [
    "### 4.5 XGBoost"
   ]
  },
  {
   "cell_type": "code",
   "execution_count": 232,
   "id": "d124cf18",
   "metadata": {},
   "outputs": [
    {
     "name": "stdout",
     "output_type": "stream",
     "text": [
      "Fitting 5 folds for each of 27 candidates, totalling 135 fits\n",
      "XGBoost - Accuracy: 0.85, Precision: 0.8, Recall: 0.8, F1 Score: 0.8, ROC AUC: 0.9359999999999999\n"
     ]
    }
   ],
   "source": [
    "# Setting up hyperparameters for XGBoost and performing grid search\n",
    "param_grid = {\n",
    "    'n_estimators': [50, 100, 150],\n",
    "    'learning_rate': [0.01, 0.1, 1],\n",
    "    'max_depth': [3, 5, 7]\n",
    "}\n",
    "\n",
    "# Fitting XGBoost model\n",
    "grid_search = GridSearchCV(XGBClassifier(eval_metric='mlogloss'), param_grid, cv=5, n_jobs=-1, verbose=1, scoring='f1')\n",
    "grid_search.fit(X_train, y_train)\n",
    "\n",
    "# Storing the best XGBoost model and generating predictions\n",
    "best_xgb_model = grid_search.best_estimator_\n",
    "y_pred_xgb = best_xgb_model.predict(X_test)\n",
    "y_pred_prob_xgb = best_xgb_model.predict_proba(X_test)[:, 1]\n",
    "\n",
    "# Calculating metrics for XGBoost\n",
    "xgb_accuracy = accuracy_score(y_test, y_pred_xgb)\n",
    "xgb_precision = precision_score(y_test, y_pred_xgb)\n",
    "xgb_recall = recall_score(y_test, y_pred_xgb)\n",
    "xgb_f1_score = f1_score(y_test, y_pred_xgb)\n",
    "xgb_roc_auc = roc_auc_score(y_test, y_pred_prob_xgb)\n",
    "\n",
    "print(f\"XGBoost - Accuracy: {xgb_accuracy}, Precision: {xgb_precision}, Recall: {xgb_recall}, F1 Score: {xgb_f1_score}, ROC AUC: {xgb_roc_auc}\")\n"
   ]
  },
  {
   "cell_type": "markdown",
   "id": "eccc4bc1-9765-41b6-9a0d-8d5d9e0743d2",
   "metadata": {},
   "source": [
    "### Analysis of XGBoost Model Performance\n",
    "\n",
    "I trained the **XGBoost** model using **GridSearchCV** to tune the hyperparameters `n_estimators`, `learning_rate`, and `max_depth`. After running 5-fold cross-validation with 27 hyperparameter combinations, the model was evaluated on the test set. Below are the results:\n",
    "\n",
    "1. **Accuracy**: **0.875**\n",
    "   - The model achieved an accuracy of 87.5%, meaning it correctly predicted 87.5% of the test cases. While the accuracy is strong, it is slightly lower than some of the other models like Gradient Boosting and Decision Tree. However, accuracy alone doesn’t capture the model’s full performance, so it’s important to look at precision and recall.\n",
    "\n",
    "2. **Precision**: **0.810**\n",
    "   - Precision of 80.95% indicates that when the model predicts a positive class, it is correct 80.95% of the time. This means that around 19% of the predicted positive cases were false positives. Precision is important in scenarios where false positives are costly, and in this case, the model shows that there’s still some room for improvement in reducing false positives.\n",
    "\n",
    "3. **Recall**: **0.944**\n",
    "   - The recall of 94.44% shows that the model is highly effective at identifying true positive cases, correctly capturing almost all of the actual positive cases. This high recall suggests that the XGBoost model is excellent in situations where missing positive cases (false negatives) is costly.\n",
    "\n",
    "4. **F1 Score**: **0.872**\n",
    "   - The F1 Score of 87.18% reflects the balance between precision and recall. It shows that the model performs well when both false positives and false negatives need to be considered. The F1 score is lower than some other models (like Gradient Boosting), which suggests that while recall is strong, the model’s precision needs improvement to provide better overall performance.\n",
    "\n",
    "5. **ROC AUC**: **0.980**\n",
    "   - The ROC AUC score of 97.98% is quite high, indicating that the model has excellent discriminative power between positive and negative classes. This high score means that the model can separate positive and negative instances very effectively, which is useful when fine-tuning classification thresholds.\n",
    "\n",
    "### Conclusion:\n",
    "- The **precision (80.95%)** is reasonable but indicates that there are some false positives. In business contexts where false positives are costly (e.g., fraud detection or customer churn prediction), additional tuning might be required to improve this metric.\n",
    "- The **high recall (94.44%)** shows that the model is excellent at identifying true positive cases. This makes it suitable for scenarios where false negatives are particularly costly (e.g., medical diagnoses, fraud detection).\n",
    "- The **F1 Score of 87.18%** shows that the model balances precision and recall well, though it slightly favors recall over precision. In cases where both false positives and false negatives are costly, this score is reasonable but may not be as balanced as some of the other models like Gradient Boosting.\n",
    "- The **ROC AUC score of 0.980** shows that the model has strong discriminative ability, which is especially useful when adjusting classification thresholds to better match the specific needs of the business problem.\n"
   ]
  },
  {
   "cell_type": "markdown",
   "id": "256bc2c3",
   "metadata": {},
   "source": [
    "## 5. Model Comparison"
   ]
  },
  {
   "cell_type": "code",
   "execution_count": 107,
   "id": "9b4a697e",
   "metadata": {},
   "outputs": [
    {
     "name": "stdout",
     "output_type": "stream",
     "text": [
      "               Model  Accuracy  Precision    Recall  F1 Score   ROC AUC\n",
      "0      Decision Tree     0.875   0.842105  0.888889  0.864865  0.893939\n",
      "1           AdaBoost     0.925   0.894737  0.944444  0.918919  0.929293\n",
      "2  Gradient Boosting     0.950   0.944444  0.944444  0.944444  0.989899\n",
      "3            XGBoost     0.875   0.809524  0.944444  0.871795  0.979798\n"
     ]
    }
   ],
   "source": [
    "# Import necessary libraries\n",
    "import pandas as pd\n",
    "from sklearn.metrics import accuracy_score, precision_score, recall_score, f1_score, roc_auc_score\n",
    "\n",
    "# Assume the models (best_dt_model, best_ada_model, best_gb_model, best_xgb_model) are already trained\n",
    "\n",
    "# Make predictions and calculate probabilities for each model\n",
    "y_pred_dt = best_dt_model.predict(X_test)\n",
    "y_pred_dt_prob = best_dt_model.predict_proba(X_test)[:, 1]  # Decision Tree\n",
    "\n",
    "y_pred_ada = best_ada_model.predict(X_test)\n",
    "y_pred_ada_prob = best_ada_model.predict_proba(X_test)[:, 1]  # AdaBoost\n",
    "\n",
    "y_pred_gb = best_gb_model.predict(X_test)\n",
    "y_pred_gb_prob = best_gb_model.predict_proba(X_test)[:, 1]  # Gradient Boosting\n",
    "\n",
    "y_pred_xgb = best_xgb_model.predict(X_test)\n",
    "y_pred_xgb_prob = best_xgb_model.predict_proba(X_test)[:, 1]  # XGBoost\n",
    "\n",
    "# Calculate metrics for each model\n",
    "dt_accuracy = accuracy_score(y_test, y_pred_dt)\n",
    "ada_accuracy = accuracy_score(y_test, y_pred_ada)\n",
    "gb_accuracy = accuracy_score(y_test, y_pred_gb)\n",
    "xgb_accuracy = accuracy_score(y_test, y_pred_xgb)\n",
    "\n",
    "dt_precision = precision_score(y_test, y_pred_dt)\n",
    "ada_precision = precision_score(y_test, y_pred_ada)\n",
    "gb_precision = precision_score(y_test, y_pred_gb)\n",
    "xgb_precision = precision_score(y_test, y_pred_xgb)\n",
    "\n",
    "dt_recall = recall_score(y_test, y_pred_dt)\n",
    "ada_recall = recall_score(y_test, y_pred_ada)\n",
    "gb_recall = recall_score(y_test, y_pred_gb)\n",
    "xgb_recall = recall_score(y_test, y_pred_xgb)\n",
    "\n",
    "dt_f1_score = f1_score(y_test, y_pred_dt)\n",
    "ada_f1_score = f1_score(y_test, y_pred_ada)\n",
    "gb_f1_score = f1_score(y_test, y_pred_gb)\n",
    "xgb_f1_score = f1_score(y_test, y_pred_xgb)\n",
    "\n",
    "dt_roc_auc = roc_auc_score(y_test, y_pred_dt_prob)\n",
    "ada_roc_auc = roc_auc_score(y_test, y_pred_ada_prob)\n",
    "gb_roc_auc = roc_auc_score(y_test, y_pred_gb_prob)\n",
    "xgb_roc_auc = roc_auc_score(y_test, y_pred_xgb_prob)\n",
    "\n",
    "# After calculating all metrics for the models, define the model_metrics DataFrame\n",
    "model_metrics = pd.DataFrame({\n",
    "    'Model': ['Decision Tree', 'AdaBoost', 'Gradient Boosting', 'XGBoost'],\n",
    "    'Accuracy': [dt_accuracy, ada_accuracy, gb_accuracy, xgb_accuracy],\n",
    "    'Precision': [dt_precision, ada_precision, gb_precision, xgb_precision],\n",
    "    'Recall': [dt_recall, ada_recall, gb_recall, xgb_recall],\n",
    "    'F1 Score': [dt_f1_score, ada_f1_score, gb_f1_score, xgb_f1_score],\n",
    "    'ROC AUC': [dt_roc_auc, ada_roc_auc, gb_roc_auc, xgb_roc_auc]\n",
    "})\n",
    "\n",
    "# Display the comparison table\n",
    "print(model_metrics)\n"
   ]
  },
  {
   "cell_type": "markdown",
   "id": "1d64a6b3-373a-47cf-8405-577a9b63779a",
   "metadata": {},
   "source": [
    "### Model Comparison Analysis\r\n",
    "\r\n",
    "After training and evaluating the four models (Decision Tree, AdaBoost, Gradient Boosting, and XGBoost), I compared their performances based on the key metrics: **Accuracy**, **Precision**, **Recall**, **F1 Score**, and **ROC AUC**. Here’s the breakdown of my analysi.979798 |\r\n",
    "\r\n",
    "### Key Takeaways\r\n",
    "\r\n",
    "1. **Accuracy**:\r\n",
    "   - **Gradient Boosting** outperformed the other models with the highest accuracy of **95%**, demonstrating that it made the fewest overall errors on the test set.\r\n",
    "   - Both **Decision Tree** and **XGBoost** had slightly lower accuracy at **87.5%**, which shows that they made more misclassifications. However, accuracy is not the only metric to consider.\r\n",
    "\r\n",
    "2. **Precision**:\r\n",
    "   - **Gradient Boosting** achieved the highest precision at **94.44%**, which means that nearly all positive predictions made by this model were correct. This is particularly important when false positives are costly, such as in fraud detection.\r\n",
    "   - **XGBoost** had the lowest precision at **80.95%**, meaning it had more false positives compared to the other models. This would be a drawback in scenarios where false positives can lead to high costs.\r\n",
    "\r\n",
    "3. **Recall**:\r\n",
    "   - Except for the **Decision Tree**, the other models had an equally high recall of **94.44%**. This indicates that these models are very effective at capturing almost all true positive cases, making them suitable when it is critical not to miss positive cases (such as in medical diagnoses).\r\n",
    "   - The **Decision Tree** had slightly lower recall at **88.89%**, meaning it missed more positive cases compared to the others.\r\n",
    "\r\n",
    "4. **F1 Score**:\r\n",
    "   - **Gradient Boosting** excelled with the highest F1 score of **94.44%**, showing a well-balanced performance between precision and recall. This makes it the best overall model when both false positives and false negatives need to be minimized.\r\n",
    "   - Both **XGBoost** and **Decision Tree** had lower F1 scores of **87.18%** and **86.49%**, respectively, suggesting that while they have good recall, their lower precision affects the overall balance of performance.\r\n",
    "\r\n",
    "5. **ROC AUC**:\r\n",
    "   - **Gradient Boosting** and **XGBoost** both achieved very high ROC AUC scores (98.89% and 97.98%, respectively), indicating strong ability to distinguish between positive and negative classes across different thresholds.\r\n",
    "   - The **Decision Tree** had the lowest ROC AUC of **89.39%**, which suggests that its ability to differentiate between positive and negative cases is weaker compared to the ensemble methods.\r\n",
    "\r\n",
    "### Conclusion:\r\n",
    "- **Gradient Boosting** consistently delivered the best results across all metrics, particularly in terms of **precision**, **F1 score**, and **ROC AUC**. This model is ideal for cases where minimizing both false positives and false negatives is important, such as in healthcare or financial fraud detection.\r\n",
    "- **AdaBoost** also performed well, with a high **F1 score** of **91.89%** and **recall** of **94.44%**. This makes it a strong option for tasks where it is crucial to identify as many true positives as possible, but still avoid too many false positives.\r\n",
    "- **XGBoost** demonstrated strong recall and **ROC AUC**, but its lower precision means it may not be the best choice when false positives carry a high cost. However, it could still be useful in scenarios where detecting positive cases is more important than minimizing false positives.\r\n",
    "- **Decision Tree**, while relatively simple, was outperformed by the ensemble models in most metrics. It might still be a good choice for simpler problems or when interpretability  me know if you need any further clarifications!"
   ]
  },
  {
   "cell_type": "code",
   "execution_count": 193,
   "id": "cc91a789-e74d-4176-bdc3-50160c5bc882",
   "metadata": {},
   "outputs": [
    {
     "name": "stdout",
     "output_type": "stream",
     "text": [
      "--- AdaBoost ---\n",
      "Accuracy: 0.9250\n",
      "Precision: 0.8947\n",
      "Recall: 0.9444\n",
      "F1-Score: 0.9189\n",
      "AUC: 0.9293\n"
     ]
    },
    {
     "data": {
      "image/png": "[encoded data removed]",
      "text/plain": [
       "<Figure size 640x480 with 1 Axes>"
      ]
     },
     "metadata": {},
     "output_type": "display_data"
    },
    {
     "name": "stdout",
     "output_type": "stream",
     "text": [
      "--- Gradient Boosting ---\n",
      "Accuracy: 0.9250\n",
      "Precision: 0.8571\n",
      "Recall: 1.0000\n",
      "F1-Score: 0.9231\n",
      "AUC: 1.0000\n"
     ]
    },
    {
     "data": {
      "image/png": "[encoded data removed]",
      "text/plain": [
       "<Figure size 640x480 with 1 Axes>"
      ]
     },
     "metadata": {},
     "output_type": "display_data"
    },
    {
     "name": "stdout",
     "output_type": "stream",
     "text": [
      "--- XGBoost ---\n",
      "Accuracy: 0.8750\n",
      "Precision: 0.8095\n",
      "Recall: 0.9444\n",
      "F1-Score: 0.8718\n",
      "AUC: 0.9798\n"
     ]
    },
    {
     "data": {
      "image/png": "[encoded data removed]",
      "text/plain": [
       "<Figure size 640x480 with 1 Axes>"
      ]
     },
     "metadata": {},
     "output_type": "display_data"
    },
    {
     "name": "stdout",
     "output_type": "stream",
     "text": [
      "--- Random Forest ---\n",
      "Accuracy: 0.8750\n",
      "Precision: 0.8421\n",
      "Recall: 0.8889\n",
      "F1-Score: 0.8649\n",
      "AUC: 0.9596\n"
     ]
    },
    {
     "data": {
      "image/png": "[encoded data removed]",
      "text/plain": [
       "<Figure size 640x480 with 1 Axes>"
      ]
     },
     "metadata": {},
     "output_type": "display_data"
    },
    {
     "name": "stdout",
     "output_type": "stream",
     "text": [
      "--- Decision Tree ---\n",
      "Accuracy: 0.9500\n",
      "Precision: 1.0000\n",
      "Recall: 0.8889\n",
      "F1-Score: 0.9412\n",
      "AUC: 0.9520\n"
     ]
    },
    {
     "data": {
      "image/png": "[encoded data removed]",
      "text/plain": [
       "<Figure size 640x480 with 1 Axes>"
      ]
     },
     "metadata": {},
     "output_type": "display_data"
    }
   ],
   "source": [
    "# Function to print metrics for each model (unchanged)\n",
    "def print_metrics(model_name, y_test, y_pred, y_pred_prob):\n",
    "    accuracy = accuracy_score(y_test, y_pred)\n",
    "    precision = precision_score(y_test, y_pred)\n",
    "    recall = recall_score(y_test, y_pred)\n",
    "    f1 = f1_score(y_test, y_pred)\n",
    "    auc = roc_auc_score(y_test, y_pred_prob)\n",
    "    \n",
    "    print(f\"--- {model_name} ---\")\n",
    "    print(f\"Accuracy: {accuracy:.4f}\")\n",
    "    print(f\"Precision: {precision:.4f}\")\n",
    "    print(f\"Recall: {recall:.4f}\")\n",
    "    print(f\"F1-Score: {f1:.4f}\")\n",
    "    print(f\"AUC: {auc:.4f}\")\n",
    "    \n",
    "    # Plot ROC curve\n",
    "    fpr, tpr, _ = roc_curve(y_test, y_pred_prob)\n",
    "    plt.plot(fpr, tpr, label=f\"{model_name} (AUC = {auc:.4f})\")\n",
    "    plt.xlabel(\"False Positive Rate\")\n",
    "    plt.ylabel(\"True Positive Rate\")\n",
    "    plt.title(f\"ROC Curve for {model_name}\")\n",
    "    plt.legend(loc=\"lower right\")\n",
    "    plt.show()\n",
    "\n",
    "# Assuming you've trained the AdaBoost, Gradient Boosting, and XGBoost models\n",
    "\n",
    "# AdaBoost\n",
    "y_pred_ada = best_ada_model.predict(X_test)\n",
    "y_pred_ada_prob = best_ada_model.predict_proba(X_test)[:, 1]\n",
    "print_metrics(\"AdaBoost\", y_test, y_pred_ada, y_pred_ada_prob)\n",
    "\n",
    "# Gradient Boosting\n",
    "y_pred_gb = best_gb_model.predict(X_test)\n",
    "y_pred_gb_prob = best_gb_model.predict_proba(X_test)[:, 1]\n",
    "print_metrics(\"Gradient Boosting\", y_test, y_pred_gb, y_pred_gb_prob)\n",
    "\n",
    "# XGBoost\n",
    "y_pred_xgb = best_xgb_model.predict(X_test)\n",
    "y_pred_xgb_prob = best_xgb_model.predict_proba(X_test)[:, 1]\n",
    "print_metrics(\"XGBoost\", y_test, y_pred_xgb, y_pred_xgb_prob)\n",
    "\n",
    "# Random Forest\n",
    "y_pred_rf = best_rf_model.predict(X_test)\n",
    "y_pred_rf_prob = best_rf_model.predict_proba(X_test)[:, 1]\n",
    "print_metrics(\"Random Forest\", y_test, y_pred_rf, y_pred_rf_prob)\n",
    "\n",
    "# Decision Tree\n",
    "y_pred_dt = best_dt_model.predict(X_test)\n",
    "y_pred_dt_prob = best_dt_model.predict_proba(X_test)[:, 1]\n",
    "print_metrics(\"Decision Tree\", y_test, y_pred_dt, y_pred_dt_prob)\n"
   ]
  },
  {
   "cell_type": "markdown",
   "id": "e6660c0f",
   "metadata": {},
   "source": [
    "### Discussion of Model Performance Trade-offs"
   ]
  },
  {
   "cell_type": "markdown",
   "id": "fe342a72-c9c9-43d6-a39a-1584211fa9b0",
   "metadata": {},
   "source": [
    "\n",
    "The performance of each model is presented in terms of **Accuracy**, **Precision**, **Recall**, **F1-Score**, and **AUC**. Without knowing the specific business problem, we can't determine the exact cost of **False Positives (FPs)** or **False Negatives (FNs)**. However, I can discuss the general trade-offs of each model’s performance, focusing on how these metrics relate to potential business scenarios.\n",
    "\n",
    "### Key Trade-offs:\n",
    "\n",
    "#### **1. AdaBoost**\n",
    "- **Precision**: 0.8947\n",
    "- **Recall**: 0.9444\n",
    "- **F1 Score**: 0.9189\n",
    "- **AUC**: 0.9293\n",
    "\n",
    "**Trade-offs**:\n",
    "- **Precision (89.47%)**: AdaBoost has a relatively high precision, meaning it makes fewer false positives. In business scenarios where false positives are costly (e.g., fraud detection, medical diagnostics), this is an advantage.\n",
    "- **Recall (94.44%)**: The model is also good at detecting positive cases, meaning it misses fewer positive cases, which is crucial in scenarios where missing a true positive (false negative) is costly (e.g., missing a fraudster or a disease).\n",
    "- **F1 Score (91.89%)**: This balance between precision and recall is strong, making AdaBoost a versatile option in cases where both false positives and false negatives need to be controlled.\n",
    "- **AUC (0.9293)**: The high AUC suggests that AdaBoost is good at distinguishing between positive and negative classes at various thresholds.\n",
    "\n",
    "---\n",
    "\n",
    "#### **2. Gradient Boosting**\n",
    "- **Precision**: 0.8571\n",
    "- **Recall**: 1.0000\n",
    "- **F1 Score**: 0.9231\n",
    "- **AUC**: 1.0000\n",
    "\n",
    "**Trade-offs**:\n",
    "- **Recall (100%)**: Gradient Boosting stands out with perfect recall, meaning it identified every positive case without missing any. This would be critical in scenarios where false negatives are unacceptable (e.g., in medical settings, or critical safety systems).\n",
    "- **Precision (85.71%)**: While recall is perfect, the precision is lower, which means it generates more false positives. This could be an issue in cases where false positives are costly (e.g., identifying customers as likely to churn when they aren't).\n",
    "- **F1 Score (92.31%)**: The F1 score shows that Gradient Boosting performs well overall, but it’s slightly skewed toward recall, favoring capturing all positives even if some false positives occur.\n",
    "- **AUC (1.0000)**: The perfect AUC indicates excellent discriminative ability, meaning the model handles different classification thresholds extremely well.\n",
    "\n",
    "---\n",
    "\n",
    "#### **3. XGBoost**\n",
    "- **Precision**: 0.8095\n",
    "- **Recall**: 0.9444\n",
    "- **F1 Score**: 0.8718\n",
    "- **AUC**: 0.9798\n",
    "\n",
    "**Trade-offs**:\n",
    "- **Precision (80.95%)**: XGBoost has relatively lower precision, meaning it has a higher rate of false positives compared to AdaBoost and Gradient Boosting. In cases where false positives are costly, this could be a concern.\n",
    "- **Recall (94.44%)**: The recall is high, meaning it does well at identifying positive cases, making it useful in contexts where missing a positive case (false negative) is highly undesirable.\n",
    "- **F1 Score (87.18%)**: The balance between precision and recall is reasonable, but the model skews slightly toward recall, meaning it's more focused on identifying positives at the expense of some false positives.\n",
    "- **AUC (0.9798)**: XGBoost also has a high AUC, indicating strong performance across different decision thresholds, making it flexible in adjusting for varying business requirements.\n",
    "\n",
    "---\n",
    "\n",
    "#### **4. Random Forest**\n",
    "- **Precision**: 0.8421\n",
    "- **Recall**: 0.8889\n",
    "- **F1 Score**: 0.8649\n",
    "- **AUC**: 0.9596\n",
    "\n",
    "**Trade-offs**:\n",
    "- **Precision (84.21%)**: Random Forest shows decent precision, meaning it can reduce the number of false positives to some extent. However, it's still slightly lower than models like AdaBoost and Gradient Boosting, which might be problematic in scenarios where false positives are costly.\n",
    "- **Recall (88.89%)**: The recall is decent but not as high as the other models. This means Random Forest may miss more positive cases, which could be an issue where identifying positive cases is critical (e.g., fraud detection).\n",
    "- **F1 Score (86.49%)**: The F1 score indicates a fairly balanced trade-off between precision and recall, making it a well-rounded choice for cases where both false positives and false negatives need to be considered.\n",
    "- **AUC (0.9596)**: A high AUC shows that Random Forest has strong discriminative power, making it effective at distinguishing between classes across different thresholds.\n",
    "\n",
    "---\n",
    "\n",
    "#### **5. Decision Tree**\n",
    "- **Precision**: 1.0000\n",
    "- **Recall**: 0.8889\n",
    "- **F1 Score**: 0.9412\n",
    "- **AUC**: 0.9520\n",
    "\n",
    "**Trade-offs**:\n",
    "- **Precision (100%)**: The Decision Tree has perfect precision, meaning it made no false positive predictions. This would be highly beneficial in scenarios where false positives are costly (e.g., in financial systems where false positives could cause unnecessary actions).\n",
    "- **Recall (88.89%)**: However, it misses more positive cases compared to other models like Gradient Boosting and XGBoost. This would be a concern in scenarios where missing a positive case is costly (e.g., medical diagnosis).\n",
    "- **F1 Score (94.12%)**: Despite the high precision, the F1 score is strong because the recall is still relatively high. This shows that the model is effective but skews more toward avoiding false positives than capturing all positives.\n",
    "- **AUC (0.9520)**: The AUC score is strong, meaning the model does well across various decision thresholds, though it may not be as flexible as Gradient Boosting or XGBoost.\n",
    "\n",
    "---\n",
    "\n",
    "### General Insights (Without Knowing the Business Problem)\n",
    "Since the business problem is unknown, we can discuss general trade-offs:\n",
    "- **If false positives are costly** (e.g., in fraud detection or email spam filtering), models with **high precision**, such as **Decision Tree** (100%) and **AdaBoost** (89.47%), would be preferable, as they minimize the number of false positives.\n",
    "  \n",
    "- **If false negatives are costly** (e.g., in healthcare or detecting critical events), models with **high recall**, such as **Gradient Boosting** (100%) and **XGBoost** (94.44%), would be ideal, as they minimize the number of missed positive cases.\n",
    "\n",
    "- **If both false positives and false negatives matter** equally, **F1 score** is the best indicator. In this case, **Gradient Boosting** (92.31%) and **Decision Tree** (94.12%) would be strong candidates because they strike a good balance between precision and recall.\n",
    "\n",
    "- **If flexibility is needed across different classification thresholds**, **AUC** is the best metric to focus on. Models like **Gradient Boosting** (1.000) and **XGBoost** (0.9798) are excellent at this, providing flexibility to adjust to varying business needs.\n",
    "\n",
    "### Conclusion:\n",
    "- If **false positives** are the most costly, the **Decision Tree** or **AdaBoost** would be suitable, as they are more cautious in making false positive predictions.\n",
    "- If **false negatives** are the greatest concern, **Gradient Boosting** is likely the best option, as it ensures all positive cases are captured.\n",
    "- For a **balanced approach**, **Gradient Boosting** and **AdaBoost** are reliable options, both demonstrating strong F1 scores and AUCs.\n"
   ]
  },
  {
   "cell_type": "markdown",
   "id": "a871f58a-6714-47bb-9bfc-4bdff7e70cc7",
   "metadata": {},
   "source": [
    "Based on the F1 scores , here's the ranking of the models:\n",
    "\n",
    "### Conclusion:\n",
    "- **Gradient Boosting** has the highest F1 score of **0.944444**, making it the best model in terms of balancing precision and recall.\n",
    "- **AdaBoost** follows closely with an F1 score of **0.918919**, indicating strong performance but slightly less balanced than Gradient Boosting.\n",
    "- **XGBoost** and **Decision Tree** have lower F1 scores compared to the others, with **Decision Tree** having the lowest F1 score of **0.864865**.\n",
    "\n",
    "Thus, based purely on the **F1 score**, **Gradient Boosting** is the best model for deployment."
   ]
  },
  {
   "cell_type": "markdown",
   "id": "99c5121b-85e8-4cf4-872f-b5192b7aaaf3",
   "metadata": {},
   "source": [
    "### Conclusion"
   ]
  },
  {
   "cell_type": "markdown",
   "id": "70662c35-7864-4b5d-96fc-20a4d71ff4d1",
   "metadata": {},
   "source": [
    "### Conclusion and Model Selection for Deployment\n",
    "\n",
    "After comparing all the models based on their accuracy, precision, recall, F1 score, and AUC, I have decided which model would be best for deployment. While each model has its strengths, the choice of the model depends on finding a balance between minimizing false positives, catching as many true positives as possible, and ensuring the model is efficient and scalable.\n",
    "\n",
    "#### Best Performing Models\n",
    "\n",
    "From the results, **Gradient Boosting** and **AdaBoost** are the two top-performing models. Both show a good balance between precision and recall, making them strong candidates for deployment.\n",
    "\n",
    "### My Recommendation\n",
    "\n",
    "#### **1. Gradient Boosting**\n",
    "\n",
    "- **Why I Would Choose Gradient Boosting**:\n",
    "  - **F1 Score**: Gradient Boosting has an F1 score of **0.9231**, which means it does a good job of balancing precision and recall, ensuring it catches most positive cases while not making too many mistakes.\n",
    "  - **Perfect Recall**: With a recall of **1.000**, Gradient Boosting caught every positive case during testing. This is important if missing positive cases would be a big problem, like in fraud detection or medical testing.\n",
    "  - **AUC**: The AUC score of **1.000** means the model is excellent at distinguishing between positive and negative cases. This gives flexibility to adjust thresholds based on the business need.\n",
    "\n",
    "- **Things to Consider**:\n",
    "  - **Precision**: While Gradient Boosting’s precision is still high at **0.8571**, it’s not perfect. This means it might have some false positives, which could be an issue if false positives are expensive.\n",
    "  - **Computational Cost**: Gradient Boosting can be slower and more resource-intensive to run, especially on larger datasets. If we need real-time predictions or are working with very large data, it might require more computing power.\n",
    "\n",
    "#### **2. AdaBoost**\n",
    "\n",
    "- **Why I Would Choose AdaBoost**:\n",
    "  - **High Precision**: AdaBoost has a precision of **0.8947**, which means it’s better at avoiding false positives compared to Gradient Boosting. This is useful if false positives are costly, like in spam detection or fraud alerts.\n",
    "  - **Balanced Performance**: With an F1 score of **0.9189** and a recall of **0.9444**, AdaBoost is also strong at catching most positive cases while balancing false positives.\n",
    "  - **AUC**: The AUC score of **0.9293** indicates AdaBoost is good at distinguishing between classes, which makes it a flexible model.\n",
    "\n",
    "- **Things to Consider**:\n",
    "  - **Lower Recall**: AdaBoost’s recall is **0.9444**, which is still good but not as high as Gradient Boosting. If we really can’t afford to miss any positive cases (like in medical diagnosis), it might not be the best choice.\n",
    "  - **Efficiency**: AdaBoost is faster and requires less computing power compared to Gradient Boosting, making it a better choice if computational resources or speed is a major concern.\n",
    "\n",
    "### **My Final Choice: Gradient Boosting**\n",
    "\n",
    "I would choose **Gradient Boosting** for deployment because of its **perfect recall** and **excellent F1 score**. It’s the best option if missing positive cases is a big concern, such as in situations where false negatives could cause major issues (e.g., fraud detection or healthcare).\n",
    "\n",
    "Even though it might require more computational resources to run, the ability to catch all positive cases and the flexibility it offers with a high AUC makes it the best overall choice. \n",
    "\n",
    "If speed or computational efficiency were the most important factors, then I would consider **AdaBoost** as a good alternative, especially if we need to be more cautious about false positives.\n",
    "\n",
    "In conclusion, **Gradient Boosting** is the most reliable model for deployment in this scenario based on its strong performance across all metrics."
   ]
  }
 ],
 "metadata": {
  "kernelspec": {
   "display_name": "Python 3 (ipykernel)",
   "language": "python",
   "name": "python3"
  },
  "language_info": {
   "codemirror_mode": {
    "name": "ipython",
    "version": 3
   },
   "file_extension": ".py",
   "mimetype": "text/x-python",
   "name": "python",
   "nbconvert_exporter": "python",
   "pygments_lexer": "ipython3",
   "version": "3.12.3"
  }
 },
 "nbformat": 4,
 "nbformat_minor": 5
}
